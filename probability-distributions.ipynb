{
 "cells": [
  {
   "cell_type": "code",
   "execution_count": 1,
   "metadata": {},
   "outputs": [],
   "source": [
    "import numpy as np\n",
    "import pandas as pd\n",
    "import matplotlib.pyplot as plt\n",
    "from scipy import stats"
   ]
  },
  {
   "cell_type": "markdown",
   "metadata": {},
   "source": [
    "1. A bank found that the average number of cars waiting during the noon hour at a drive-up window follows a Poisson \n",
    "\n",
    "distribution with a mean of 2 cars. Make a chart of this distribution and answer these questions concerning the \n",
    "\n",
    "probability of cars waiting at the drive-up window.\n",
    "\n",
    "What is the probability that no cars drive up in the noon hour?\n",
    "\n",
    "What is the probability that 3 or more cars come through the drive through?\n",
    "\n",
    "How likely is it that the drive through gets at least 1 car?"
   ]
  },
  {
   "cell_type": "code",
   "execution_count": 8,
   "metadata": {},
   "outputs": [
    {
     "data": {
      "text/plain": [
       "0.86213"
      ]
     },
     "execution_count": 8,
     "metadata": {},
     "output_type": "execute_result"
    }
   ],
   "source": [
    "#simulating with python:\n",
    "\n",
    "average = 2\n",
    "size = 100_000\n",
    "trials = np.random.poisson(average, size)\n",
    "(trials == 0).mean() # probability of getting no car\n",
    "\n",
    "(trials >= 3).mean()  # probability of getting 3 or more cars\n",
    "\n",
    "(trials >= 1).mean() #probability of getting atleast one car"
   ]
  },
  {
   "cell_type": "code",
   "execution_count": 10,
   "metadata": {},
   "outputs": [
    {
     "data": {
      "text/plain": [
       "<BarContainer object of 7 artists>"
      ]
     },
     "execution_count": 10,
     "metadata": {},
     "output_type": "execute_result"
    },
    {
     "data": {
      "image/png": "[encoded data removed]",
      "text/plain": [
       "<Figure size 432x288 with 1 Axes>"
      ]
     },
     "metadata": {
      "needs_background": "light"
     },
     "output_type": "display_data"
    }
   ],
   "source": [
    "average = 2\n",
    "stats.poisson(average).pmf(0) # getting the probability of no cars\n",
    "\n",
    "# plotting a bar chart of the probability of 0 to 6 cars waiting in the line at noon\n",
    "x = (0,1,2,3,4,5,6)\n",
    "y = stats.poisson(average).pmf(x)\n",
    "plt.bar(x,y)"
   ]
  },
  {
   "cell_type": "code",
   "execution_count": 11,
   "metadata": {},
   "outputs": [
    {
     "data": {
      "text/plain": [
       "0.32332358381693654"
      ]
     },
     "execution_count": 11,
     "metadata": {},
     "output_type": "execute_result"
    }
   ],
   "source": [
    "stats.poisson(average).sf(2) # getting the probability of 3 or more cars"
   ]
  },
  {
   "cell_type": "code",
   "execution_count": 14,
   "metadata": {},
   "outputs": [
    {
     "data": {
      "text/plain": [
       "0.8646647167633873"
      ]
     },
     "execution_count": 14,
     "metadata": {},
     "output_type": "execute_result"
    }
   ],
   "source": [
    "stats.poisson(average).sf(0) # atleast one car means more than 0"
   ]
  },
  {
   "cell_type": "markdown",
   "metadata": {},
   "source": [
    "2.Grades of State University graduates are normally distributed with a mean of 3.0 and a standard deviation of .3. Calculate the following:\n",
    "\n",
    "What grade point average is required to be in the top 5% of the graduating class?\n",
    "What GPA constitutes the bottom 15% of the class?\n",
    "An eccentric alumnus left scholarship money for students in the third decile from the bottom of their class. Determine the range of the third decile. Would a student with a 2.8 grade point average qualify for this scholarship?\n",
    "If I have a GPA of 3.5, what percentile am I in?"
   ]
  },
  {
   "cell_type": "code",
   "execution_count": 77,
   "metadata": {},
   "outputs": [
    {
     "data": {
      "text/plain": [
       "2.744857330652451"
      ]
     },
     "execution_count": 77,
     "metadata": {},
     "output_type": "execute_result"
    }
   ],
   "source": [
    "# simulating with python\n",
    "mean = 3.0\n",
    "sd = 0.3\n",
    "size = 100_000\n",
    "trials = np.random.normal(mean, sd, size)\n",
    "pd.Series(trials).quantile(.95) # grade point required to be in the top 5% of the graduating class\n",
    "\n",
    "pd.Series(trials).quantile(.15) # GPA that constitutes the bottom 15%\n",
    "\n",
    "pd.Series(trials).quantile(.20)# 3rd decile from the bottom is any students with GPA between 20th and 30th percentile\n",
    "pd.Series(trials).quantile(.30) \n",
    "\n",
    "# (trials >=3.5).mean() # percentile range with GPA 3.5\n",
    "\n"
   ]
  },
  {
   "cell_type": "code",
   "execution_count": 72,
   "metadata": {},
   "outputs": [
    {
     "data": {
      "text/plain": [
       "3.4934560880854417"
      ]
     },
     "execution_count": 72,
     "metadata": {},
     "output_type": "execute_result"
    }
   ],
   "source": [
    "mean = 3\n",
    "sd = .3\n",
    "stats.norm(mean, sd).isf(.05) # grade point average required to be on the top 5% of the class"
   ]
  },
  {
   "cell_type": "code",
   "execution_count": 73,
   "metadata": {},
   "outputs": [
    {
     "data": {
      "text/plain": [
       "2.689069983151863"
      ]
     },
     "execution_count": 73,
     "metadata": {},
     "output_type": "execute_result"
    }
   ],
   "source": [
    "# grade point average that constitutes the bottom 15%\n",
    "stats.norm(mean, sd).ppf(.15)\n"
   ]
  },
  {
   "cell_type": "code",
   "execution_count": 74,
   "metadata": {},
   "outputs": [
    {
     "data": {
      "text/plain": [
       "array([2.74751363, 2.84267985])"
      ]
     },
     "execution_count": 74,
     "metadata": {},
     "output_type": "execute_result"
    }
   ],
   "source": [
    "\n",
    "stats.norm(mean, sd).ppf([.2,.3,]) # getting the third decile from the bottom of the class for scholarship"
   ]
  },
  {
   "cell_type": "code",
   "execution_count": 37,
   "metadata": {},
   "outputs": [
    {
     "data": {
      "text/plain": [
       "0.3315904626424956"
      ]
     },
     "execution_count": 37,
     "metadata": {},
     "output_type": "execute_result"
    }
   ],
   "source": [
    "stats.norm(mean,sd).pdf(3.5) # getting the percentile 3.5 GPA falls in"
   ]
  },
  {
   "cell_type": "markdown",
   "metadata": {},
   "source": [
    "3.A marketing website has an average click-through rate of 2%. One day they observe 4326 visitors and 97 click-throughs. How likely is it that this many people or more click through?"
   ]
  },
  {
   "cell_type": "code",
   "execution_count": 79,
   "metadata": {},
   "outputs": [
    {
     "data": {
      "text/plain": [
       "0.11782"
      ]
     },
     "execution_count": 79,
     "metadata": {},
     "output_type": "execute_result"
    }
   ],
   "source": [
    "# python simulation\n",
    "average = 0.02\n",
    "trial = 4326\n",
    "size = 100_000\n",
    "trials = np.random.binomial(trial,0.02,size )\n",
    "(trials > 97).mean() # gives the probability of getting 97 click when getting 4326 visitors with a success rate of 0.02\n"
   ]
  },
  {
   "cell_type": "code",
   "execution_count": 78,
   "metadata": {},
   "outputs": [
    {
     "data": {
      "text/plain": [
       "0.1397582363130086"
      ]
     },
     "execution_count": 78,
     "metadata": {},
     "output_type": "execute_result"
    }
   ],
   "source": [
    "average = 2/100\n",
    "trials = 4326\n",
    "stats.binom(trials,average).sf(96)"
   ]
  },
  {
   "cell_type": "markdown",
   "metadata": {},
   "source": [
    "4.You are working on some statistics homework consisting of 100 questions where all of the answers are a probability rounded to the hundreths place. Looking to save time, you put down random probabilities as the answer to each question.\n",
    "\n",
    "What is the probability that at least one of your first 60 answers is correct?"
   ]
  },
  {
   "cell_type": "code",
   "execution_count": 101,
   "metadata": {},
   "outputs": [
    {
     "data": {
      "text/plain": [
       "0.45282"
      ]
     },
     "execution_count": 101,
     "metadata": {},
     "output_type": "execute_result"
    }
   ],
   "source": [
    "# python simulation\n",
    "\n",
    "answers = (np.random.random(100)).round(2) # prpbability ranges from 0 to 1, and rounded to 100th place means\n",
    "# we have 50 answer choices for each question\n",
    "\n",
    "success = 1/len(answers) # liklihood of getting answer selected at random, correct\n",
    "\n",
    "size = 100_000\n",
    "\n",
    "trial = 60\n",
    "\n",
    "((np.random.binomial(trial, success, size)) >=1).mean()\n",
    "\n",
    "\n"
   ]
  },
  {
   "cell_type": "code",
   "execution_count": 89,
   "metadata": {},
   "outputs": [
    {
     "data": {
      "text/plain": [
       "0.4528433576092388"
      ]
     },
     "execution_count": 89,
     "metadata": {},
     "output_type": "execute_result"
    }
   ],
   "source": [
    "answers = np.random.random(100) # first getting the random 50 values between 0 and 1 to get the possible answer choice\n",
    "ans = answers.round(2) # rounding them to the 100th place\n",
    "success = 1/len(ans) # getting the probability of correct answer chosen at random\n",
    "success\n",
    "trials = 60 # in order to see if we can get atleast one correct in first 60, set the trial number to 60\n",
    "stats.binom(trials, success).sf(0) # getting atleast one correct means gettin the probability of value falling over 0"
   ]
  },
  {
   "cell_type": "markdown",
   "metadata": {},
   "source": [
    "5.The codeup staff tends to get upset when the student break area is not cleaned up. Suppose that there's a 3% chance that any one student cleans the break area when they visit it, and, on any given day, about 90% of the 3 active cohorts of 22 students visit the break area. How likely is it that the break area gets cleaned up each day? How likely is it that it goes two days without getting cleaned up? All week?"
   ]
  },
  {
   "cell_type": "code",
   "execution_count": 42,
   "metadata": {},
   "outputs": [
    {
     "data": {
      "text/plain": [
       "0.83206"
      ]
     },
     "execution_count": 42,
     "metadata": {},
     "output_type": "execute_result"
    }
   ],
   "source": [
    "# python simulation to get the chance of getting the rest room cleaned\n",
    "success = 0.03\n",
    "trial = 0.9*3*22\n",
    "size = 100_000\n",
    "# getting the random success  of 1 or more meaning atleast one people will clean the restroom\n",
    "# getting the mean of getting one or more \n",
    "(np.random.binomial(trial, success, size) >= 1).mean() # chance of getting it clean each day\n",
    "\n"
   ]
  },
  {
   "cell_type": "code",
   "execution_count": 47,
   "metadata": {},
   "outputs": [
    {
     "data": {
      "text/plain": [
       "0.02772"
      ]
     },
     "execution_count": 47,
     "metadata": {},
     "output_type": "execute_result"
    }
   ],
   "source": [
    "# python simulation to get the probability that the restroom goes two dats without cleaning\n",
    "trials = np.random.binomial(trial, success, size = (100_000, 2)).reshape(100_000,2)\n",
    "\n",
    "# indexing our dataframe with condition that the value is greater than 0,meaning there was atleast one person to \n",
    "# clean the breakroom we will get dataframe of boolean values\n",
    "# summing the boolean values and equating them to 0, meaning the value was not greater than 0 for two days in a row\n",
    "\n",
    "\n",
    "((trials>0).sum(axis = 1) == 0).mean()"
   ]
  },
  {
   "cell_type": "code",
   "execution_count": 48,
   "metadata": {},
   "outputs": [
    {
     "data": {
      "text/plain": [
       "0.0001"
      ]
     },
     "execution_count": 48,
     "metadata": {},
     "output_type": "execute_result"
    }
   ],
   "source": [
    "# probability of getting it not cleaned entire week\n",
    "trials = np.random.binomial(trial, success, size = (100_000, 5)).reshape(100_000,5)\n",
    "((trials>0).sum(axis = 1) == 0).mean()"
   ]
  },
  {
   "cell_type": "code",
   "execution_count": 49,
   "metadata": {},
   "outputs": [
    {
     "data": {
      "text/plain": [
       "0.8342199288437355"
      ]
     },
     "execution_count": 49,
     "metadata": {},
     "output_type": "execute_result"
    }
   ],
   "source": [
    "# probability distributions to get the probability of getting the rest room cleaned\n",
    "success = 0.03\n",
    "trials = 0.9*3*22\n",
    "stats.binom(trials, success).sf(0)"
   ]
  },
  {
   "cell_type": "code",
   "execution_count": 50,
   "metadata": {},
   "outputs": [
    {
     "data": {
      "text/plain": [
       "0.026821436301629083"
      ]
     },
     "execution_count": 50,
     "metadata": {},
     "output_type": "execute_result"
    }
   ],
   "source": [
    "# probability of getting it not cleaned two days in a row\n",
    "# two days in a row means we must multiply our trial by 2\n",
    "success = 0.03\n",
    "trials = 0.9*3*22 *2\n",
    "stats.binom(trials, success).pmf(0)"
   ]
  },
  {
   "cell_type": "code",
   "execution_count": 51,
   "metadata": {},
   "outputs": [
    {
     "data": {
      "text/plain": [
       "0.00011781621791055166"
      ]
     },
     "execution_count": 51,
     "metadata": {},
     "output_type": "execute_result"
    }
   ],
   "source": [
    "# probability of getting it not cleaned five days in a row\n",
    "# two days in a row means we must multiply our trial by 5\n",
    "success = 0.03\n",
    "trials = 0.9*3*22 *5\n",
    "stats.binom(trials, success).pmf(0)"
   ]
  },
  {
   "cell_type": "markdown",
   "metadata": {},
   "source": [
    "#6. You want to get lunch at La Panaderia, but notice that the line is usually very long at lunchtime. After several weeks of careful observation, you notice that the average number of people in line when your lunch break starts is normally distributed with a mean of 15 and standard deviation of 3. If it takes 2 minutes for each person to order, and 10 minutes from ordering to getting your food, what is the likelihood that you have at least 15 minutes left to eat your food before you have to go back to class? Assume you have one hour for lunch, and ignore travel time to and from La Panaderia."
   ]
  },
  {
   "cell_type": "code",
   "execution_count": 55,
   "metadata": {},
   "outputs": [
    {
     "data": {
      "text/plain": [
       "0.79727"
      ]
     },
     "execution_count": 55,
     "metadata": {},
     "output_type": "execute_result"
    }
   ],
   "source": [
    "# simulation with python\n",
    "time_available = 60\n",
    "mean_time = 15 * 2\n",
    "sd_time = 3*2\n",
    "time_to_order = 35 # so that you have 10 minutes to wait for your food, and 15 minutes to eat \n",
    "\n",
    "\n",
    "# getting the likelihood that waiting and ordering of the food is completed in less than 35 minutes\n",
    "(np.random.normal(mean_time, sd_time, 100_000) <= 35).mean()"
   ]
  },
  {
   "cell_type": "code",
   "execution_count": 8,
   "metadata": {},
   "outputs": [
    {
     "data": {
      "text/plain": [
       "0.7976716190363569"
      ]
     },
     "execution_count": 8,
     "metadata": {},
     "output_type": "execute_result"
    }
   ],
   "source": [
    "mean_time = 15*2 # changing the average number of customer to time by multiplying by the time it takes to order food\n",
    "sd = 3*2 # changing the standard deviation to time \n",
    "stats.norm(mean_time, sd).cdf(35) # in order to be able to wait 10 minutes and have 15 minutes to eat lunch,\n",
    "# I should be able to finish ordering within 35 minutes"
   ]
  },
  {
   "cell_type": "markdown",
   "metadata": {},
   "source": [
    "7.Connect to the employees database and find the average salary of current employees, along with the standard deviation. For the following questions, calculate the answer based on modeling the employees salaries with a normal distribution defined by the calculated mean and standard deviation then compare this answer to the actual values present in the salaries dataset.\n",
    "\n",
    "What percent of employees earn less than 60,000?\n",
    "\n",
    "What percent of employees earn more than 95,000?\n",
    "\n",
    "What percent of employees earn between 65,000 and 80,000?\n",
    "\n",
    "What do the top 5% of employees make?"
   ]
  },
  {
   "cell_type": "code",
   "execution_count": 102,
   "metadata": {},
   "outputs": [
    {
     "data": {
      "text/plain": [
       "0.24421"
      ]
     },
     "execution_count": 102,
     "metadata": {},
     "output_type": "execute_result"
    }
   ],
   "source": [
    "# simulation with python\n",
    "mean = 72012\n",
    "sd = 17310\n",
    "\n",
    "# getting the percentage of employees earning less than or equal to 60,000\n",
    "(np.random.normal(mean, sd, 100_000) <= 60_000).mean()\n",
    "\n",
    "\n",
    "\n",
    "\n",
    "\n",
    "\n"
   ]
  },
  {
   "cell_type": "code",
   "execution_count": 103,
   "metadata": {},
   "outputs": [
    {
     "data": {
      "text/plain": [
       "0.09173"
      ]
     },
     "execution_count": 103,
     "metadata": {},
     "output_type": "execute_result"
    }
   ],
   "source": [
    "# getting the percentage of employees earning more than 95,000\n",
    "(np.random.normal(mean, sd, 100_000) > 95_000).mean()"
   ]
  },
  {
   "cell_type": "code",
   "execution_count": 109,
   "metadata": {},
   "outputs": [
    {
     "data": {
      "text/plain": [
       "0.33635000000000004"
      ]
     },
     "execution_count": 109,
     "metadata": {},
     "output_type": "execute_result"
    }
   ],
   "source": [
    "#What percent of employees earn between 65,000 and 80,000?\n",
    "\n",
    "((np.random.normal(mean, sd, 100_000) < 80_000).mean())-((np.random.normal(mean, sd, 100_000) < 65_000).mean())"
   ]
  },
  {
   "cell_type": "code",
   "execution_count": 110,
   "metadata": {},
   "outputs": [
    {
     "data": {
      "text/plain": [
       "100358.25204559327"
      ]
     },
     "execution_count": 110,
     "metadata": {},
     "output_type": "execute_result"
    }
   ],
   "source": [
    "\n",
    "#What do the top 5% of employees make?\n",
    "pd.Series((np.random.normal(mean, sd, 100_000))).quantile(.95)"
   ]
  },
  {
   "cell_type": "code",
   "execution_count": 111,
   "metadata": {},
   "outputs": [
    {
     "data": {
      "text/plain": [
       "24.38617554963023"
      ]
     },
     "execution_count": 111,
     "metadata": {},
     "output_type": "execute_result"
    }
   ],
   "source": [
    "mean = 72012\n",
    "sd = 17310\n",
    "stats.norm(mean, sd).cdf(60000) * 100 # percentage of employee earning less than or equal to 60000\n",
    "\n",
    "\n",
    "\n"
   ]
  },
  {
   "cell_type": "code",
   "execution_count": 112,
   "metadata": {},
   "outputs": [
    {
     "data": {
      "text/plain": [
       "9.208599994106093"
      ]
     },
     "execution_count": 112,
     "metadata": {},
     "output_type": "execute_result"
    }
   ],
   "source": [
    "stats.norm(mean, sd).sf(95000) * 100 # percentage of employees earning more than 95000"
   ]
  },
  {
   "cell_type": "code",
   "execution_count": 113,
   "metadata": {},
   "outputs": [
    {
     "data": {
      "text/plain": [
       "33.5060363819384"
      ]
     },
     "execution_count": 113,
     "metadata": {},
     "output_type": "execute_result"
    }
   ],
   "source": [
    "in_between = stats.norm(mean, sd).cdf(80000) - stats.norm(mean,sd).cdf(65000) \n",
    "in_between * 100. # percentage of employees earning between 65000 and 80000"
   ]
  },
  {
   "cell_type": "code",
   "execution_count": 114,
   "metadata": {},
   "outputs": [
    {
     "data": {
      "text/plain": [
       "100484.41628253"
      ]
     },
     "execution_count": 114,
     "metadata": {},
     "output_type": "execute_result"
    }
   ],
   "source": [
    "#What do the top 5% of employees make?\n",
    "stats.norm(mean, sd).isf(.05)"
   ]
  }
 ],
 "metadata": {
  "kernelspec": {
   "display_name": "Python 3",
   "language": "python",
   "name": "python3"
  },
  "language_info": {
   "codemirror_mode": {
    "name": "ipython",
    "version": 3
   },
   "file_extension": ".py",
   "mimetype": "text/x-python",
   "name": "python",
   "nbconvert_exporter": "python",
   "pygments_lexer": "ipython3",
   "version": "3.7.6"
  }
 },
 "nbformat": 4,
 "nbformat_minor": 4
}
