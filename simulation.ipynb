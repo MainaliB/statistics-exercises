{
 "cells": [
  {
   "cell_type": "code",
   "execution_count": 1,
   "metadata": {},
   "outputs": [],
   "source": [
    "import matplotlib.pyplot as plt\n",
    "import pandas as pd\n",
    "import numpy as np"
   ]
  },
  {
   "cell_type": "markdown",
   "metadata": {},
   "source": [
    "1. How likely is it that you roll doubles when rolling two dice?"
   ]
  },
  {
   "cell_type": "code",
   "execution_count": 2,
   "metadata": {},
   "outputs": [
    {
     "data": {
      "text/plain": [
       "0.16748"
      ]
     },
     "execution_count": 2,
     "metadata": {},
     "output_type": "execute_result"
    }
   ],
   "source": [
    "np.random.seed(19)\n",
    "n_simulations = n_rows = 10**5\n",
    "n_dice_rolls = ncols = 2\n",
    "rolls = np.random.choice([1,2,3,4,5,6], n_rows * ncols).reshape(n_rows, ncols)\n",
    "\n",
    "df = pd.DataFrame(rolls)\n",
    "mean = (df[0] == df[1]).mean()\n",
    "mean\n",
    "\n",
    "\n"
   ]
  },
  {
   "cell_type": "markdown",
   "metadata": {},
   "source": [
    "2. If you flip 8 coins, what is the probability of getting exactly 3 heads? What is the probability of \n",
    " getting more than 3 heads?"
   ]
  },
  {
   "cell_type": "code",
   "execution_count": 3,
   "metadata": {},
   "outputs": [
    {
     "data": {
      "text/plain": [
       "0.63805"
      ]
     },
     "execution_count": 3,
     "metadata": {},
     "output_type": "execute_result"
    }
   ],
   "source": [
    "\n",
    "\n",
    "\n",
    "# In order to solve this problame, we have head and tails, we are running the simulation 100,000 times, reshaping the array\n",
    "# and converting it to a dataframe.\n",
    "\n",
    "\n",
    "# We are then getting an array of boolean values based on the argument where the value is equal to head\n",
    "\n",
    "# we are then summing the axis(rows) to see how many of the row have exactly three true value for heads\n",
    "\n",
    "\n",
    "simulation = np.random.choice([\"head\", \"tails\"], 100_000 * 8, p = [.5,.5]).reshape(100_000, 8)\n",
    "df = pd.DataFrame(simulation)\n",
    "df1 = (df==\"head\")\n",
    "(df1.sum(axis = 1) == 3).mean() # the probability of exactly three heads\n",
    "(df1.sum(axis =1) > 3).mean() # probability of more than three heads\n",
    "\n"
   ]
  },
  {
   "cell_type": "markdown",
   "metadata": {},
   "source": [
    "3.There are approximitely 3 web development cohorts for every 1 data science cohort at Codeup. \n",
    "Assuming that Codeup randomly selects an alumni to put on a billboard, what are the odds that the \n",
    "two billboards I drive past both have data science students on them?"
   ]
  },
  {
   "cell_type": "code",
   "execution_count": 4,
   "metadata": {},
   "outputs": [
    {
     "data": {
      "text/plain": [
       "0.0623"
      ]
     },
     "execution_count": 4,
     "metadata": {},
     "output_type": "execute_result"
    }
   ],
   "source": [
    "\n",
    "\n",
    "p = np.random.choice(['webdevelopment', 'datascience'], size = (100_000,2), p =(0.75, 0.25)).reshape(100_000, 2)\n",
    "p_datascience = p ==['datascience', 'datascience']\n",
    "(p_datascience.sum(axis =1)==2).mean()\n",
    "\n",
    "# we solve this problem by putting the probability of webdev and datascience class"
   ]
  },
  {
   "cell_type": "markdown",
   "metadata": {},
   "source": [
    "4.Codeup students buy, on average, 3 poptart packages (+- 1.5) a day from the snack vending machine. If on monday the machine is restocked with 17 poptart packages, how likely is it that I will be able to buy some poptarts on Friday afternoon?"
   ]
  },
  {
   "cell_type": "code",
   "execution_count": 5,
   "metadata": {},
   "outputs": [
    {
     "data": {
      "text/plain": [
       "0.7216"
      ]
     },
     "execution_count": 5,
     "metadata": {},
     "output_type": "execute_result"
    }
   ],
   "source": [
    "np.random.seed(29)\n",
    "sim = np.random.normal(3, 1.5, size = (100_000, 5))\n",
    "sim.mean()\n",
    "weekly_demand = sim.sum(axis=1)\n",
    "(weekly_demand < 17). mean()"
   ]
  },
  {
   "cell_type": "markdown",
   "metadata": {},
   "source": [
    "5. Compare Heights\n",
    "\n",
    "Men have an average height of 178 cm and standard deviation of 8cm.\n",
    "\n",
    "Women have a mean of 170, sd = 6cm.\n",
    "\n",
    "If a man and woman are chosen at random, P(woman taller than man)?"
   ]
  },
  {
   "cell_type": "code",
   "execution_count": 6,
   "metadata": {},
   "outputs": [
    {
     "data": {
      "text/plain": [
       "0.21044"
      ]
     },
     "execution_count": 6,
     "metadata": {},
     "output_type": "execute_result"
    }
   ],
   "source": [
    "np.random.seed(39)\n",
    "p_m = np.random.normal(178,8,100_000)\n",
    "p_w = np.random.normal(170,6,100_000)\n",
    "p_w\n",
    "p_m\n",
    "\n",
    "(p_w > p_m).mean()"
   ]
  },
  {
   "cell_type": "markdown",
   "metadata": {},
   "source": [
    "6. When installing anaconda on a student's computer, there's a 1 in 250 chance that the download is corrupted and the installation fails. What are the odds that after having 50 students download anaconda, no one has an installation issue? 100 students?\n",
    "\n",
    "What is the probability that we observe an installation issue within the first 150 students that download anaconda?\n",
    "\n",
    "How likely is it that 450 students all download anaconda without an issue?"
   ]
  },
  {
   "cell_type": "code",
   "execution_count": 7,
   "metadata": {},
   "outputs": [],
   "source": [
    "fails = np.random.choice(['fails', 'success'], size = (100_000, 50), p = (1/250, 249/250))\n"
   ]
  },
  {
   "cell_type": "code",
   "execution_count": 8,
   "metadata": {},
   "outputs": [
    {
     "data": {
      "text/plain": [
       "0.8205"
      ]
     },
     "execution_count": 8,
     "metadata": {},
     "output_type": "execute_result"
    }
   ],
   "source": [
    "((fails == 'success').sum(axis=1) == 50).mean() # probability of 50 successes"
   ]
  },
  {
   "cell_type": "code",
   "execution_count": 9,
   "metadata": {},
   "outputs": [
    {
     "data": {
      "text/plain": [
       "0.6703"
      ]
     },
     "execution_count": 9,
     "metadata": {},
     "output_type": "execute_result"
    }
   ],
   "source": [
    "fails = np.random.choice(['fails', 'success'], size = (100_000, 100), p = (1/250, 249/250))\n",
    "((fails == 'success').sum(axis=1) == 100).mean() # probability of 100 successes"
   ]
  },
  {
   "cell_type": "code",
   "execution_count": 10,
   "metadata": {},
   "outputs": [
    {
     "data": {
      "text/plain": [
       "0.54655"
      ]
     },
     "execution_count": 10,
     "metadata": {},
     "output_type": "execute_result"
    }
   ],
   "source": [
    "fails = np.random.choice(['fails', 'success'], size = (100_000, 150), p = (1/250, 249/250))\n",
    "((fails == 'success').sum(axis=1) == 150).mean() # probability of 150 successes"
   ]
  },
  {
   "cell_type": "code",
   "execution_count": 11,
   "metadata": {},
   "outputs": [
    {
     "data": {
      "text/plain": [
       "0.16372"
      ]
     },
     "execution_count": 11,
     "metadata": {},
     "output_type": "execute_result"
    }
   ],
   "source": [
    "fails = np.random.choice(['fails', 'success'], size = (100_000, 450), p = (1/250, 249/250))\n",
    "((fails == 'success').sum(axis=1) == 450).mean() # probability of 450 students downloading anaconda without an issue"
   ]
  },
  {
   "cell_type": "markdown",
   "metadata": {},
   "source": [
    "7. There's a 70% chance on any given day that there will be at least one food truck at Travis Park. However, you \n",
    "\n",
    "haven't seen a food truck there in 3 days. How unlikely is this?\n",
    "\n",
    "How likely is it that a food truck will show up sometime this week?"
   ]
  },
  {
   "cell_type": "code",
   "execution_count": 12,
   "metadata": {},
   "outputs": [
    {
     "data": {
      "text/plain": [
       "0.02721"
      ]
     },
     "execution_count": 12,
     "metadata": {},
     "output_type": "execute_result"
    }
   ],
   "source": [
    "trucks= np.random.choice(['seen', 'no_seen'], size = (100_000,3), p = ([0.7, 0.3]))\n",
    "((trucks == 'no_seen').sum(axis = 1) == 3).mean()"
   ]
  },
  {
   "cell_type": "code",
   "execution_count": 13,
   "metadata": {},
   "outputs": [
    {
     "data": {
      "text/plain": [
       "0.99974"
      ]
     },
     "execution_count": 13,
     "metadata": {},
     "output_type": "execute_result"
    }
   ],
   "source": [
    "# likelihood that the foodtruck will show up sometime this week\n",
    "trucks= np.random.choice(['seen', 'no_seen'], size = (100_000,7), p = ([0.7, 0.3]))\n",
    "((trucks == 'seen').sum(axis = 1) >= 1).mean()"
   ]
  },
  {
   "cell_type": "markdown",
   "metadata": {},
   "source": [
    "8.If 23 people are in the same room, what are the odds that two of them share a birthday? What if it's 20 people? 40?"
   ]
  },
  {
   "cell_type": "code",
   "execution_count": 15,
   "metadata": {},
   "outputs": [
    {
     "data": {
      "text/html": [
       "<div>\n",
       "<style scoped>\n",
       "    .dataframe tbody tr th:only-of-type {\n",
       "        vertical-align: middle;\n",
       "    }\n",
       "\n",
       "    .dataframe tbody tr th {\n",
       "        vertical-align: top;\n",
       "    }\n",
       "\n",
       "    .dataframe thead th {\n",
       "        text-align: right;\n",
       "    }\n",
       "</style>\n",
       "<table border=\"1\" class=\"dataframe\">\n",
       "  <thead>\n",
       "    <tr style=\"text-align: right;\">\n",
       "      <th></th>\n",
       "      <th>0</th>\n",
       "      <th>1</th>\n",
       "      <th>2</th>\n",
       "      <th>3</th>\n",
       "      <th>4</th>\n",
       "      <th>5</th>\n",
       "      <th>6</th>\n",
       "      <th>7</th>\n",
       "      <th>8</th>\n",
       "      <th>9</th>\n",
       "      <th>...</th>\n",
       "      <th>14</th>\n",
       "      <th>15</th>\n",
       "      <th>16</th>\n",
       "      <th>17</th>\n",
       "      <th>18</th>\n",
       "      <th>19</th>\n",
       "      <th>20</th>\n",
       "      <th>21</th>\n",
       "      <th>22</th>\n",
       "      <th>n_unique</th>\n",
       "    </tr>\n",
       "  </thead>\n",
       "  <tbody>\n",
       "    <tr>\n",
       "      <th>0</th>\n",
       "      <td>139</td>\n",
       "      <td>141</td>\n",
       "      <td>38</td>\n",
       "      <td>70</td>\n",
       "      <td>57</td>\n",
       "      <td>339</td>\n",
       "      <td>9</td>\n",
       "      <td>188</td>\n",
       "      <td>192</td>\n",
       "      <td>93</td>\n",
       "      <td>...</td>\n",
       "      <td>9</td>\n",
       "      <td>206</td>\n",
       "      <td>262</td>\n",
       "      <td>336</td>\n",
       "      <td>38</td>\n",
       "      <td>320</td>\n",
       "      <td>165</td>\n",
       "      <td>56</td>\n",
       "      <td>180</td>\n",
       "      <td>21</td>\n",
       "    </tr>\n",
       "    <tr>\n",
       "      <th>1</th>\n",
       "      <td>308</td>\n",
       "      <td>112</td>\n",
       "      <td>187</td>\n",
       "      <td>218</td>\n",
       "      <td>115</td>\n",
       "      <td>158</td>\n",
       "      <td>214</td>\n",
       "      <td>116</td>\n",
       "      <td>362</td>\n",
       "      <td>36</td>\n",
       "      <td>...</td>\n",
       "      <td>31</td>\n",
       "      <td>191</td>\n",
       "      <td>55</td>\n",
       "      <td>292</td>\n",
       "      <td>118</td>\n",
       "      <td>317</td>\n",
       "      <td>330</td>\n",
       "      <td>183</td>\n",
       "      <td>30</td>\n",
       "      <td>23</td>\n",
       "    </tr>\n",
       "    <tr>\n",
       "      <th>2</th>\n",
       "      <td>248</td>\n",
       "      <td>151</td>\n",
       "      <td>344</td>\n",
       "      <td>37</td>\n",
       "      <td>9</td>\n",
       "      <td>289</td>\n",
       "      <td>343</td>\n",
       "      <td>298</td>\n",
       "      <td>50</td>\n",
       "      <td>241</td>\n",
       "      <td>...</td>\n",
       "      <td>179</td>\n",
       "      <td>124</td>\n",
       "      <td>246</td>\n",
       "      <td>344</td>\n",
       "      <td>51</td>\n",
       "      <td>147</td>\n",
       "      <td>185</td>\n",
       "      <td>157</td>\n",
       "      <td>266</td>\n",
       "      <td>22</td>\n",
       "    </tr>\n",
       "    <tr>\n",
       "      <th>3</th>\n",
       "      <td>311</td>\n",
       "      <td>205</td>\n",
       "      <td>247</td>\n",
       "      <td>154</td>\n",
       "      <td>276</td>\n",
       "      <td>332</td>\n",
       "      <td>93</td>\n",
       "      <td>23</td>\n",
       "      <td>276</td>\n",
       "      <td>111</td>\n",
       "      <td>...</td>\n",
       "      <td>70</td>\n",
       "      <td>171</td>\n",
       "      <td>222</td>\n",
       "      <td>328</td>\n",
       "      <td>60</td>\n",
       "      <td>69</td>\n",
       "      <td>174</td>\n",
       "      <td>235</td>\n",
       "      <td>345</td>\n",
       "      <td>22</td>\n",
       "    </tr>\n",
       "    <tr>\n",
       "      <th>4</th>\n",
       "      <td>210</td>\n",
       "      <td>340</td>\n",
       "      <td>200</td>\n",
       "      <td>148</td>\n",
       "      <td>1</td>\n",
       "      <td>319</td>\n",
       "      <td>174</td>\n",
       "      <td>173</td>\n",
       "      <td>65</td>\n",
       "      <td>292</td>\n",
       "      <td>...</td>\n",
       "      <td>325</td>\n",
       "      <td>220</td>\n",
       "      <td>37</td>\n",
       "      <td>243</td>\n",
       "      <td>340</td>\n",
       "      <td>226</td>\n",
       "      <td>234</td>\n",
       "      <td>284</td>\n",
       "      <td>48</td>\n",
       "      <td>22</td>\n",
       "    </tr>\n",
       "  </tbody>\n",
       "</table>\n",
       "<p>5 rows × 24 columns</p>\n",
       "</div>"
      ],
      "text/plain": [
       "     0    1    2    3    4    5    6    7    8    9  ...   14   15   16   17  \\\n",
       "0  139  141   38   70   57  339    9  188  192   93  ...    9  206  262  336   \n",
       "1  308  112  187  218  115  158  214  116  362   36  ...   31  191   55  292   \n",
       "2  248  151  344   37    9  289  343  298   50  241  ...  179  124  246  344   \n",
       "3  311  205  247  154  276  332   93   23  276  111  ...   70  171  222  328   \n",
       "4  210  340  200  148    1  319  174  173   65  292  ...  325  220   37  243   \n",
       "\n",
       "    18   19   20   21   22  n_unique  \n",
       "0   38  320  165   56  180        21  \n",
       "1  118  317  330  183   30        23  \n",
       "2   51  147  185  157  266        22  \n",
       "3   60   69  174  235  345        22  \n",
       "4  340  226  234  284   48        22  \n",
       "\n",
       "[5 rows x 24 columns]"
      ]
     },
     "execution_count": 15,
     "metadata": {},
     "output_type": "execute_result"
    }
   ],
   "source": [
    "birthday = np.random.choice(range(365),size = (100_000, 23)) # first we are getting 23 samples from the size of 365\n",
    "\n",
    "df = pd.DataFrame(birthday)\n",
    "df['n_unique']=df.nunique(axis = 1)\n",
    "df.head()"
   ]
  },
  {
   "cell_type": "code",
   "execution_count": 16,
   "metadata": {},
   "outputs": [
    {
     "data": {
      "text/plain": [
       "0.50751"
      ]
     },
     "execution_count": 16,
     "metadata": {},
     "output_type": "execute_result"
    }
   ],
   "source": [
    "# probability of all of them having a unique birthday\n",
    "(df.n_unique == 23).mean()\n",
    "\n",
    "# # finding the probability of people sharing birthday\n",
    "\n",
    "(df.n_unique != 23).mean()"
   ]
  },
  {
   "cell_type": "code",
   "execution_count": 17,
   "metadata": {},
   "outputs": [
    {
     "data": {
      "text/plain": [
       "0.41362"
      ]
     },
     "execution_count": 17,
     "metadata": {},
     "output_type": "execute_result"
    }
   ],
   "source": [
    "# for 20 people\n",
    "\n",
    "birthday = np.random.choice(range(365),size = (100_000, 20)) # first we are getting 20 samples from the size of 365\n",
    "\n",
    "df = pd.DataFrame(birthday)\n",
    "df['n_unique']=df.nunique(axis = 1)\n",
    "df.head()\n",
    "(df.n_unique != 20).mean()"
   ]
  },
  {
   "cell_type": "code",
   "execution_count": 18,
   "metadata": {},
   "outputs": [
    {
     "data": {
      "text/plain": [
       "0.89098"
      ]
     },
     "execution_count": 18,
     "metadata": {},
     "output_type": "execute_result"
    }
   ],
   "source": [
    "# for 40 people\n",
    "birthday = np.random.choice(range(365),size = (100_000, 40)) # first we are getting 40 samples from the size of 365\n",
    "\n",
    "df = pd.DataFrame(birthday)\n",
    "df['n_unique']=df.nunique(axis = 1)\n",
    "df.head()\n",
    "(df.n_unique != 40).mean()"
   ]
  },
  {
   "cell_type": "markdown",
   "metadata": {},
   "source": [
    "Chuck a Luck - https://gist.github.com/ryanorsinger/eac1d7b7e978f90b8390bdc056312123"
   ]
  },
  {
   "cell_type": "code",
   "execution_count": 78,
   "metadata": {},
   "outputs": [
    {
     "data": {
      "text/plain": [
       "579025.0"
      ]
     },
     "execution_count": 78,
     "metadata": {},
     "output_type": "execute_result"
    }
   ],
   "source": [
    "np.random.seed(17)\n",
    "results = np.random.choice([1,2,3,4,5,6], size=(1_000_000, 3), p = [1/6,1/6,1/6,1/6,1/6,1/6]).reshape(1_000_000, 3)\n",
    "pick = np.random.choice([1,2,3,4,5,6], size = 1, p = [1/6,1/6,1/6,1/6,1/6,1/6])\n",
    "pick\n",
    "\n",
    "win_rate = ((results ==pick).sum(axis = 1) >=1).mean()\n",
    "winnings_after_many_games = win_rate * 1 * 1_000_000  # playing 1000000 games\n",
    "winnings_after_many_games # winnings after 1000000 games\n",
    "loss = (1 * 1_000_000) - winnings_after_many_games # loss after 1000000 games\n",
    "loss"
   ]
  }
 ],
 "metadata": {
  "kernelspec": {
   "display_name": "Python 3",
   "language": "python",
   "name": "python3"
  },
  "language_info": {
   "codemirror_mode": {
    "name": "ipython",
    "version": 3
   },
   "file_extension": ".py",
   "mimetype": "text/x-python",
   "name": "python",
   "nbconvert_exporter": "python",
   "pygments_lexer": "ipython3",
   "version": "3.7.6"
  }
 },
 "nbformat": 4,
 "nbformat_minor": 4
}
