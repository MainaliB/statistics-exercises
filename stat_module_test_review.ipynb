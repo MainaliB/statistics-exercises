{
 "cells": [
  {
   "cell_type": "markdown",
   "metadata": {},
   "source": [
    "- Generating random numbers using numpys random module"
   ]
  },
  {
   "cell_type": "code",
   "execution_count": 3,
   "metadata": {},
   "outputs": [],
   "source": [
    "import numpy as np\n",
    "import pandas as pd\n",
    "np.random.seed(31)"
   ]
  },
  {
   "cell_type": "markdown",
   "metadata": {},
   "source": [
    "- np.random.choice: selects random options from a list.\n",
    "- arguments for random.choice(a, size=None, replace=True, p=None)\n",
    "\n",
    "    - a = 1-D array like or int\n",
    "    - size : int or tuple of ints, optional\n",
    "    - p : 1-D array-like, optional. The probabilities associated with each entry in a.\n",
    "    "
   ]
  },
  {
   "cell_type": "code",
   "execution_count": 20,
   "metadata": {},
   "outputs": [
    {
     "data": {
      "text/plain": [
       "array([3, 4, 1, 2])"
      ]
     },
     "execution_count": 20,
     "metadata": {},
     "output_type": "execute_result"
    }
   ],
   "source": [
    "np.random.choice([1,2,3,4,5], size = 4, p= [1/8,1/4, 1/4, 1/8, 1/4])"
   ]
  },
  {
   "cell_type": "code",
   "execution_count": 28,
   "metadata": {},
   "outputs": [
    {
     "data": {
      "text/plain": [
       "array([2, 5, 6])"
      ]
     },
     "execution_count": 28,
     "metadata": {},
     "output_type": "execute_result"
    }
   ],
   "source": [
    "# simulating a dice roll using the random.choice\n",
    "sides = [1,2,3,4,5,6]\n",
    "size = 3 # number of times you are rolling\n",
    "p = [1/6,1/6,1/6,1/6,1/6,1/6]\n",
    "results = np.random.choice(sides, size, p)\n",
    "results"
   ]
  },
  {
   "cell_type": "markdown",
   "metadata": {},
   "source": [
    "- lets say we are rolling 2 dice, how likely that we roll doubles?\n",
    "    - we can use the random.choice to answer this question"
   ]
  },
  {
   "cell_type": "code",
   "execution_count": 52,
   "metadata": {},
   "outputs": [
    {
     "data": {
      "text/plain": [
       "0.16648"
      ]
     },
     "execution_count": 52,
     "metadata": {},
     "output_type": "execute_result"
    }
   ],
   "source": [
    "sides = [1,2,3,4,5,6]\n",
    "number_of_dice = 2\n",
    "\n",
    "# lets say we want to roll it 100,000 times to get the actual probability of rolling doubles so,\n",
    "\n",
    "size = 100_000\n",
    "# we know the probability to be\n",
    "p = [1/6,1/6,1/6,1/6,1/6,1/6] \n",
    "\n",
    "# also, the p argument is optional, if you dont provide anything, it will default to equal probability for all the value\n",
    "results = np.random.choice(sides, size * number_of_dice, p).reshape(size, number_of_dice)\n",
    "results\n",
    "\n",
    "# solving this problem using a good ole fashion loop\n",
    "count = 0\n",
    "for result in results:\n",
    "    if result[0]==result[1]:\n",
    "        count += 1\n",
    "probability = count/size\n",
    "probability"
   ]
  },
  {
   "cell_type": "code",
   "execution_count": 53,
   "metadata": {},
   "outputs": [
    {
     "data": {
      "text/plain": [
       "0.16523"
      ]
     },
     "execution_count": 53,
     "metadata": {},
     "output_type": "execute_result"
    }
   ],
   "source": [
    "# use of just numpy to solve the above problem\n",
    "\n",
    "a = np.random.choice([1, 2, 3, 4, 5, 6], size=100_000)\n",
    "b = np.random.choice([1, 2, 3, 4, 5, 6], size=100_000)\n",
    "(a==b).mean()\n",
    "\n"
   ]
  },
  {
   "cell_type": "code",
   "execution_count": 54,
   "metadata": {},
   "outputs": [
    {
     "data": {
      "text/plain": [
       "0.16648"
      ]
     },
     "execution_count": 54,
     "metadata": {},
     "output_type": "execute_result"
    }
   ],
   "source": [
    "# we can solve this problem using panda DataFrame\n",
    "results = pd.DataFrame(results)\n",
    "(results[0]==results[1]).mean()"
   ]
  },
  {
   "cell_type": "markdown",
   "metadata": {},
   "source": [
    "- np.random.uniform: generates numbers between a given lower and upper bound"
   ]
  },
  {
   "cell_type": "code",
   "execution_count": 57,
   "metadata": {},
   "outputs": [
    {
     "data": {
      "text/plain": [
       "array([1.70694996, 4.56582616, 2.91273439, 2.92087902, 4.24727223])"
      ]
     },
     "execution_count": 57,
     "metadata": {},
     "output_type": "execute_result"
    }
   ],
   "source": [
    "my_numbers = np.random.uniform(1,5,5)\n",
    "my_numbers"
   ]
  },
  {
   "cell_type": "markdown",
   "metadata": {},
   "source": [
    "- np.random.uniform(low=0.0, high=1.0, size=None)\n",
    "\n",
    "- Draw samples from a uniform distribution.\n",
    "- uniform distribution means, every element has equal likelihood of occuring"
   ]
  },
  {
   "cell_type": "code",
   "execution_count": 64,
   "metadata": {},
   "outputs": [
    {
     "data": {
      "text/plain": [
       "array([3.73591673, 4.25508553, 3.87199811, 1.79464984, 1.49760243,\n",
       "       2.44128834, 2.1608015 , 2.97921628, 4.84297814, 2.38755861])"
      ]
     },
     "execution_count": 64,
     "metadata": {},
     "output_type": "execute_result"
    }
   ],
   "source": [
    "numbers= np.random.uniform(1,5,10)\n",
    "# we are selecting 10 numbers that are uniformly distributed between 1 and 5\n",
    "numbers"
   ]
  },
  {
   "cell_type": "markdown",
   "metadata": {},
   "source": [
    "- np.random.random: generates numbers between 0 and 1\n",
    "- Return random floats in the half-open interval [0.0, 1.0)\n",
    "- np.random.random(size=None)"
   ]
  },
  {
   "cell_type": "code",
   "execution_count": 67,
   "metadata": {},
   "outputs": [
    {
     "data": {
      "text/plain": [
       "array([0.74432808, 0.52390843, 0.06065989, 0.16001208, 0.4133807 ,\n",
       "       0.73846465, 0.95596594, 0.36818055, 0.96372533, 0.13938102])"
      ]
     },
     "execution_count": 67,
     "metadata": {},
     "output_type": "execute_result"
    }
   ],
   "source": [
    "x = np.random.random(10)\n",
    "x"
   ]
  },
  {
   "cell_type": "markdown",
   "metadata": {},
   "source": [
    "- np.random.randn: generates numbers from the standard normal distribution\n",
    "- standard normal distribution is signified by mean of 0 and a standard deviation of 1\n",
    "- np.random.randn(d0, d1, ..., dn)\n",
    "    - d0, d1, ---, dn : int, optional. The dimensions of the returned array, must be non-negative.If no argument is given a single Python float is returned."
   ]
  },
  {
   "cell_type": "code",
   "execution_count": 71,
   "metadata": {},
   "outputs": [
    {
     "data": {
      "text/plain": [
       "array([[-0.51408344, -0.62430831, -0.33035245, -0.28334855,  1.33914296,\n",
       "         0.04079548, -1.33207859, -0.4152104 , -0.1672892 ,  0.53954601],\n",
       "       [-1.66489403, -1.73306388, -1.41379627,  0.74563564, -1.00205763,\n",
       "        -0.32516646,  1.83888644, -0.06434213, -0.25830156,  0.20402419]])"
      ]
     },
     "execution_count": 71,
     "metadata": {},
     "output_type": "execute_result"
    }
   ],
   "source": [
    "np.random.randn(2,10)"
   ]
  },
  {
   "cell_type": "markdown",
   "metadata": {},
   "source": [
    "- np.random.normal: generates numbers from a normal distribution with a specified mean and standard deviation\n",
    "- np.random.normal(loc(mean)=0.0, scale(standard deviation)=1.0, size=None)"
   ]
  },
  {
   "cell_type": "code",
   "execution_count": 79,
   "metadata": {},
   "outputs": [
    {
     "data": {
      "text/plain": [
       "array([[ 4.38369196, -2.90039292, -0.47453848,  0.15700906],\n",
       "       [ 3.48273441,  3.39785292,  2.88301612, -1.89945202],\n",
       "       [ 3.44577472,  1.33129559,  1.32682697,  0.55708305],\n",
       "       [ 3.28840493,  0.65902496,  0.05011168,  2.08603967]])"
      ]
     },
     "execution_count": 79,
     "metadata": {},
     "output_type": "execute_result"
    }
   ],
   "source": [
    "np.random.normal(1,2,(4,4))\n",
    "# we are getting a 4 by 4 array of numbers drawn from a normal distribution of mean 1 and sd of 2"
   ]
  },
  {
   "cell_type": "code",
   "execution_count": 115,
   "metadata": {},
   "outputs": [
    {
     "data": {
      "text/plain": [
       "0.21893"
      ]
     },
     "execution_count": 115,
     "metadata": {},
     "output_type": "execute_result"
    }
   ],
   "source": [
    "#If you flip 8 coins, what is the probability of getting exactly 3 heads? \n",
    "# What is the probability of getting more than 3 heads?\n",
    "\n",
    "number_of_coins = 8\n",
    "choices = ['heads', 'tails']\n",
    "probability = [1/2, 1/2]\n",
    "size = 100_000\n",
    "results = np.random.choice(choices, size * number_of_coins, probability).reshape(size, number_of_coins)\n",
    "results = pd.DataFrame(results)\n",
    "((results == 'heads').sum(axis = 1) == 3).mean() # probability of getting exactly three heads\n",
    "\n"
   ]
  },
  {
   "cell_type": "code",
   "execution_count": 116,
   "metadata": {},
   "outputs": [
    {
     "data": {
      "text/plain": [
       "0.6348"
      ]
     },
     "execution_count": 116,
     "metadata": {},
     "output_type": "execute_result"
    }
   ],
   "source": [
    "# probability of getting more than 3 heads\n",
    "\n",
    "((results == 'heads').sum(axis = 1) > 3).mean()"
   ]
  },
  {
   "cell_type": "code",
   "execution_count": 137,
   "metadata": {},
   "outputs": [
    {
     "data": {
      "text/plain": [
       "0.2478"
      ]
     },
     "execution_count": 137,
     "metadata": {},
     "output_type": "execute_result"
    }
   ],
   "source": [
    "# There are approximitely 3 web development cohorts for every 1 data science cohort at Codeup. \n",
    "# Assuming that Codeup randomly selects an alumni to put on a billboard, what are the odds that the two \n",
    "#billboards I drive past both have data science students on them?\n",
    "\n",
    "probability = [0.75, 0.25]\n",
    "choices = ['webdev', 'datas']\n",
    "results = np.random.choice(choices, 2* 100_000, probability).reshape(100_000, 2)\n",
    "results = pd.DataFrame(results)\n",
    "((results=='datas').sum(axis = 1) == 2).mean()"
   ]
  },
  {
   "cell_type": "markdown",
   "metadata": {},
   "source": [
    "Codeup students buy, on average, 3 poptart packages (+- 1.5) a day from the snack vending machine. If on monday the machine is restocked with 17 poptart packages, how likely is it that I will be able to buy some poptarts on Friday afternoon?"
   ]
  },
  {
   "cell_type": "code",
   "execution_count": 142,
   "metadata": {},
   "outputs": [
    {
     "data": {
      "text/plain": [
       "0.72698"
      ]
     },
     "execution_count": 142,
     "metadata": {},
     "output_type": "execute_result"
    }
   ],
   "source": [
    "avg = 3\n",
    "std = 1.5\n",
    "total = 17\n",
    "results = np.random.normal(avg, std, 5 * 100_000).reshape(100_000, 5)\n",
    "(results.sum(axis = 1) < 17).mean()"
   ]
  },
  {
   "cell_type": "code",
   "execution_count": null,
   "metadata": {},
   "outputs": [],
   "source": []
  }
 ],
 "metadata": {
  "kernelspec": {
   "display_name": "Python 3",
   "language": "python",
   "name": "python3"
  },
  "language_info": {
   "codemirror_mode": {
    "name": "ipython",
    "version": 3
   },
   "file_extension": ".py",
   "mimetype": "text/x-python",
   "name": "python",
   "nbconvert_exporter": "python",
   "pygments_lexer": "ipython3",
   "version": "3.7.6"
  }
 },
 "nbformat": 4,
 "nbformat_minor": 4
}
